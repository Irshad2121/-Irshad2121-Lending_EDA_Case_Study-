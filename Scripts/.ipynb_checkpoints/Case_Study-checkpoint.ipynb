{
 "cells": [
  {
   "cell_type": "markdown",
   "id": "120d5f0a",
   "metadata": {},
   "source": [
    "# Importing Libraries"
   ]
  },
  {
   "cell_type": "code",
   "execution_count": 1,
   "id": "94ab0496",
   "metadata": {},
   "outputs": [],
   "source": [
    "import pandas as pd\n",
    "import numpy as np\n",
    "import seaborn as sns\n",
    "from matplotlib import pyplot as plt\n",
    "import warnings as ws\n",
    "ws.filterwarnings('ignore')"
   ]
  },
  {
   "cell_type": "markdown",
   "id": "e047b558",
   "metadata": {},
   "source": [
    "# Data Sourcing\n",
    "Our data source appears to be private, as it is associated with a specific organization."
   ]
  },
  {
   "cell_type": "code",
   "execution_count": 2,
   "id": "4d21bfb9",
   "metadata": {},
   "outputs": [],
   "source": [
    "df=pd.read_csv('loan.csv')"
   ]
  },
  {
   "cell_type": "code",
   "execution_count": 3,
   "id": "ac37c0aa",
   "metadata": {},
   "outputs": [
    {
     "data": {
      "text/plain": [
       "(39717, 111)"
      ]
     },
     "execution_count": 3,
     "metadata": {},
     "output_type": "execute_result"
    }
   ],
   "source": [
    "df.shape"
   ]
  },
  {
   "cell_type": "code",
   "execution_count": 4,
   "id": "fcab81d3",
   "metadata": {
    "collapsed": true
   },
   "outputs": [
    {
     "data": {
      "text/plain": [
       "mths_since_last_major_derog       1.0\n",
       "annual_inc_joint                  1.0\n",
       "dti_joint                         1.0\n",
       "verification_status_joint         1.0\n",
       "tot_coll_amt                      1.0\n",
       "tot_cur_bal                       1.0\n",
       "open_acc_6m                       1.0\n",
       "open_il_6m                        1.0\n",
       "open_il_12m                       1.0\n",
       "open_il_24m                       1.0\n",
       "mths_since_rcnt_il                1.0\n",
       "total_bal_il                      1.0\n",
       "il_util                           1.0\n",
       "open_rv_12m                       1.0\n",
       "open_rv_24m                       1.0\n",
       "max_bal_bc                        1.0\n",
       "all_util                          1.0\n",
       "total_rev_hi_lim                  1.0\n",
       "inq_fi                            1.0\n",
       "total_cu_tl                       1.0\n",
       "inq_last_12m                      1.0\n",
       "acc_open_past_24mths              1.0\n",
       "avg_cur_bal                       1.0\n",
       "bc_open_to_buy                    1.0\n",
       "bc_util                           1.0\n",
       "mo_sin_old_il_acct                1.0\n",
       "mo_sin_old_rev_tl_op              1.0\n",
       "mo_sin_rcnt_rev_tl_op             1.0\n",
       "mo_sin_rcnt_tl                    1.0\n",
       "mort_acc                          1.0\n",
       "mths_since_recent_bc              1.0\n",
       "mths_since_recent_bc_dlq          1.0\n",
       "mths_since_recent_inq             1.0\n",
       "mths_since_recent_revol_delinq    1.0\n",
       "num_accts_ever_120_pd             1.0\n",
       "num_actv_bc_tl                    1.0\n",
       "num_actv_rev_tl                   1.0\n",
       "num_bc_sats                       1.0\n",
       "num_bc_tl                         1.0\n",
       "num_il_tl                         1.0\n",
       "num_op_rev_tl                     1.0\n",
       "num_rev_accts                     1.0\n",
       "num_rev_tl_bal_gt_0               1.0\n",
       "num_sats                          1.0\n",
       "num_tl_120dpd_2m                  1.0\n",
       "num_tl_30dpd                      1.0\n",
       "num_tl_90g_dpd_24m                1.0\n",
       "num_tl_op_past_12m                1.0\n",
       "pct_tl_nvr_dlq                    1.0\n",
       "percent_bc_gt_75                  1.0\n",
       "tot_hi_cred_lim                   1.0\n",
       "total_bal_ex_mort                 1.0\n",
       "total_bc_limit                    1.0\n",
       "total_il_high_credit_limit        1.0\n",
       "dtype: float64"
      ]
     },
     "execution_count": 4,
     "metadata": {},
     "output_type": "execute_result"
    }
   ],
   "source": [
    "df.isnull().mean()[100*df.isnull().mean()==100]"
   ]
  },
  {
   "cell_type": "code",
   "execution_count": 5,
   "id": "53e6ddf3",
   "metadata": {
    "collapsed": true
   },
   "outputs": [
    {
     "data": {
      "text/plain": [
       "Index(['mths_since_last_major_derog', 'annual_inc_joint', 'dti_joint',\n",
       "       'verification_status_joint', 'tot_coll_amt', 'tot_cur_bal',\n",
       "       'open_acc_6m', 'open_il_6m', 'open_il_12m', 'open_il_24m',\n",
       "       'mths_since_rcnt_il', 'total_bal_il', 'il_util', 'open_rv_12m',\n",
       "       'open_rv_24m', 'max_bal_bc', 'all_util', 'total_rev_hi_lim', 'inq_fi',\n",
       "       'total_cu_tl', 'inq_last_12m', 'acc_open_past_24mths', 'avg_cur_bal',\n",
       "       'bc_open_to_buy', 'bc_util', 'mo_sin_old_il_acct',\n",
       "       'mo_sin_old_rev_tl_op', 'mo_sin_rcnt_rev_tl_op', 'mo_sin_rcnt_tl',\n",
       "       'mort_acc', 'mths_since_recent_bc', 'mths_since_recent_bc_dlq',\n",
       "       'mths_since_recent_inq', 'mths_since_recent_revol_delinq',\n",
       "       'num_accts_ever_120_pd', 'num_actv_bc_tl', 'num_actv_rev_tl',\n",
       "       'num_bc_sats', 'num_bc_tl', 'num_il_tl', 'num_op_rev_tl',\n",
       "       'num_rev_accts', 'num_rev_tl_bal_gt_0', 'num_sats', 'num_tl_120dpd_2m',\n",
       "       'num_tl_30dpd', 'num_tl_90g_dpd_24m', 'num_tl_op_past_12m',\n",
       "       'pct_tl_nvr_dlq', 'percent_bc_gt_75', 'tot_hi_cred_lim',\n",
       "       'total_bal_ex_mort', 'total_bc_limit', 'total_il_high_credit_limit'],\n",
       "      dtype='object')"
      ]
     },
     "execution_count": 5,
     "metadata": {},
     "output_type": "execute_result"
    }
   ],
   "source": [
    "#Identify the columns which are totally empty\n",
    "empty_column=df.isnull().mean()[100*df.isnull().mean()==100].keys()\n",
    "empty_column"
   ]
  },
  {
   "cell_type": "code",
   "execution_count": 6,
   "id": "d0f0428e",
   "metadata": {},
   "outputs": [],
   "source": [
    "#Drop the column which are completely empty\n",
    "df1=df.drop(columns=empty_column)"
   ]
  },
  {
   "cell_type": "code",
   "execution_count": 7,
   "id": "4bde2f7c",
   "metadata": {},
   "outputs": [
    {
     "data": {
      "text/plain": [
       "(39717, 57)"
      ]
     },
     "execution_count": 7,
     "metadata": {},
     "output_type": "execute_result"
    }
   ],
   "source": [
    "df1.shape"
   ]
  },
  {
   "cell_type": "code",
   "execution_count": 8,
   "id": "ee080e3c",
   "metadata": {
    "scrolled": true
   },
   "outputs": [
    {
     "data": {
      "text/plain": [
       "next_pymnt_d                  97.129693\n",
       "mths_since_last_record        92.985372\n",
       "mths_since_last_delinq        64.662487\n",
       "desc                          32.580507\n",
       "emp_title                      6.191303\n",
       "emp_length                     2.706650\n",
       "pub_rec_bankruptcies           1.754916\n",
       "last_pymnt_d                   0.178765\n",
       "chargeoff_within_12_mths       0.140998\n",
       "collections_12_mths_ex_med     0.140998\n",
       "revol_util                     0.125891\n",
       "tax_liens                      0.098195\n",
       "title                          0.027696\n",
       "last_credit_pull_d             0.005036\n",
       "home_ownership                 0.000000\n",
       "int_rate                       0.000000\n",
       "out_prncp_inv                  0.000000\n",
       "total_pymnt                    0.000000\n",
       "total_pymnt_inv                0.000000\n",
       "total_rec_prncp                0.000000\n",
       "total_rec_int                  0.000000\n",
       "total_rec_late_fee             0.000000\n",
       "recoveries                     0.000000\n",
       "collection_recovery_fee        0.000000\n",
       "term                           0.000000\n",
       "last_pymnt_amnt                0.000000\n",
       "initial_list_status            0.000000\n",
       "funded_amnt_inv                0.000000\n",
       "policy_code                    0.000000\n",
       "application_type               0.000000\n",
       "acc_now_delinq                 0.000000\n",
       "funded_amnt                    0.000000\n",
       "delinq_amnt                    0.000000\n",
       "loan_amnt                      0.000000\n",
       "out_prncp                      0.000000\n",
       "total_acc                      0.000000\n",
       "annual_inc                     0.000000\n",
       "addr_state                     0.000000\n",
       "verification_status            0.000000\n",
       "issue_d                        0.000000\n",
       "loan_status                    0.000000\n",
       "pymnt_plan                     0.000000\n",
       "url                            0.000000\n",
       "sub_grade                      0.000000\n",
       "purpose                        0.000000\n",
       "zip_code                       0.000000\n",
       "dti                            0.000000\n",
       "installment                    0.000000\n",
       "delinq_2yrs                    0.000000\n",
       "earliest_cr_line               0.000000\n",
       "inq_last_6mths                 0.000000\n",
       "member_id                      0.000000\n",
       "grade                          0.000000\n",
       "open_acc                       0.000000\n",
       "pub_rec                        0.000000\n",
       "revol_bal                      0.000000\n",
       "id                             0.000000\n",
       "dtype: float64"
      ]
     },
     "execution_count": 8,
     "metadata": {},
     "output_type": "execute_result"
    }
   ],
   "source": [
    "100*df1.isnull().mean().sort_values(ascending=False)"
   ]
  },
  {
   "cell_type": "code",
   "execution_count": null,
   "id": "9b265522",
   "metadata": {},
   "outputs": [],
   "source": [
    "#Column next_pymnt_d and mths_since_last_record has > 90% null values\n",
    "df1=df1.drop(columns=[])"
   ]
  },
  {
   "cell_type": "code",
   "execution_count": null,
   "id": "099b38f8",
   "metadata": {},
   "outputs": [],
   "source": [
    "#Check if any rows are totally empty\n",
    "100*df1.isnull().mean(axis=1).sort_values(ascending=False)"
   ]
  },
  {
   "cell_type": "code",
   "execution_count": null,
   "id": "6d0dc240",
   "metadata": {},
   "outputs": [],
   "source": [
    "#Check if duplicate records are there \n",
    "df1.drop_duplicates().shape"
   ]
  },
  {
   "cell_type": "code",
   "execution_count": null,
   "id": "2e7538bc",
   "metadata": {},
   "outputs": [],
   "source": [
    "#Identify numeric and strinb column\n",
    "num_col=df1.dtypes[(df1.dtypes=='int64') | (df1.dtypes=='float64')]\n",
    "str_col=df1.dtypes[~((df1.dtypes=='int64') | (df1.dtypes=='float64'))]"
   ]
  },
  {
   "cell_type": "code",
   "execution_count": null,
   "id": "062066ff",
   "metadata": {},
   "outputs": [],
   "source": [
    "#Remove % sign from int_rate, revol_util\n",
    "df1['int_rate']=df1['int_rate'].apply(lambda x: x.replace('%',''))\n",
    "#df1['revol_util']=df1['revol_util'].apply(lambda x: x.replace('%',''))\n",
    "#Remove xx from zip_code\n",
    "df1['zip_code']=df1['zip_code'].apply(lambda x: x.replace('xx',''))\n",
    "#Convert it into number\n",
    "df1['zip_code']=pd.to_numeric(df1['zip_code'])\n",
    "#Removing grade from subgrade so that only sub_grade will remain\n",
    "df1['sub_grade']=df1['sub_grade'].apply(lambda x: x[-1])\n",
    "#Remove % from revol_util\n",
    "df1['revol_util']=df1['revol_util'].apply(lambda x: np.nan if pd.isna(x) else x.replace('%',''))"
   ]
  },
  {
   "cell_type": "code",
   "execution_count": null,
   "id": "cc089672",
   "metadata": {},
   "outputs": [],
   "source": [
    "str_col.keys()"
   ]
  },
  {
   "cell_type": "code",
   "execution_count": null,
   "id": "9c012380",
   "metadata": {},
   "outputs": [],
   "source": [
    "#drop not relevant columns \n",
    "#application_type has only 0.,Nan values hence need delete \n",
    "df1=df1.drop(columns=['mths_since_last_record','next_pymnt_d''application_type'\n",
    "                      ,'collections_12_mths_ex_med'\n",
    "                      ,'url','chargeoff_within_12_mths','tax_liens'\n",
    "                      ,'delinq_amnt','acc_now_delinq','policy_code'\n",
    "                      ,'pymnt_plan','initial_list_status'])"
   ]
  },
  {
   "cell_type": "code",
   "execution_count": null,
   "id": "d35bbbf3",
   "metadata": {},
   "outputs": [],
   "source": [
    "df1.shape"
   ]
  },
  {
   "cell_type": "code",
   "execution_count": null,
   "id": "c26867ed",
   "metadata": {},
   "outputs": [],
   "source": [
    "df1.head()"
   ]
  },
  {
   "cell_type": "code",
   "execution_count": null,
   "id": "62bb8844",
   "metadata": {},
   "outputs": [],
   "source": [
    "#Seggrigation of column \n",
    "ordered_cat=['term','grade','sub_grade','emp_length','issue_d','delinq_2yrs'\n",
    "             ,'earliest_cr_line','inq_last_6mths','mths_since_last_delinq',\n",
    "             'last_pymnt_d','last_credit_pull_d','pub_rec_bankruptcies']\n",
    "unordered_cat=['home_ownership','verification_status','loan_status','purpose',\n",
    "               'zip_code','addr_state']\n",
    "other=['id','member_id','emp_title','desc','title']\n",
    "measure_col=['loan_amnt', 'funded_amnt','funded_amnt_inv','int_rate',\n",
    "             'installment','annual_inc','dti','open_acc','pub_rec','revol_bal'\n",
    "             ,'revol_util','total_accout_prncp','out_prncp','total_pymnt'\\\n",
    "             ,'total_pymnt_inv','total_rec_prncp','total_rec_int','total_rec_late_fee'\n",
    "             ,'recoveries','collection_recovery_fee','last_pymnt_amnt']\n",
    "df1['pub_rec_bankruptcies'].unique()"
   ]
  },
  {
   "cell_type": "markdown",
   "id": "f0b23a2e",
   "metadata": {},
   "source": [
    "# Unordered Categorical Variables - Univariate Analysis"
   ]
  },
  {
   "cell_type": "code",
   "execution_count": null,
   "id": "a69b6b27",
   "metadata": {},
   "outputs": [],
   "source": [
    "len(ordered_cat)+len(unordered_cat)+len(other)+len(measure_col)"
   ]
  },
  {
   "cell_type": "code",
   "execution_count": null,
   "id": "1ef7a22f",
   "metadata": {},
   "outputs": [],
   "source": [
    "#df1['sub_grade']=df1['sub_grade'].apply(lambda x: x[-1])\n",
    "df1=df1.drop(columns='initial_list_status')\n"
   ]
  },
  {
   "cell_type": "code",
   "execution_count": null,
   "id": "d887b1fd",
   "metadata": {},
   "outputs": [],
   "source": [
    "ordered_cat=['grade','sub_grade','loan_amnt', 'funded_amnt','term','int_rate']\n",
    "dont_know=['funded_amnt_inv']"
   ]
  },
  {
   "cell_type": "code",
   "execution_count": null,
   "id": "bf2d22a7",
   "metadata": {},
   "outputs": [],
   "source": [
    "df1_d=df1[df1['loan_status']=='Charged Off']\n",
    "df1_f=df1[df1['loan_status']=='Fully Paid']"
   ]
  },
  {
   "cell_type": "code",
   "execution_count": null,
   "id": "b0943ff6",
   "metadata": {},
   "outputs": [],
   "source": [
    "sns.histplot(df1_d['annual_inc'],bins=[0,20000,40000,60000,80000,100000])"
   ]
  },
  {
   "cell_type": "code",
   "execution_count": null,
   "id": "55433fd8",
   "metadata": {},
   "outputs": [],
   "source": [
    "\n",
    "sns.histplot(df1_f['annual_inc'],bins=[0,20000,40000,60000,80000,100000])"
   ]
  },
  {
   "cell_type": "code",
   "execution_count": null,
   "id": "04e283fd",
   "metadata": {},
   "outputs": [],
   "source": [
    "sns.histplot(df1_d['addr_state'])"
   ]
  },
  {
   "cell_type": "code",
   "execution_count": null,
   "id": "15f93bd9",
   "metadata": {},
   "outputs": [],
   "source": [
    "8.230000e+04"
   ]
  },
  {
   "cell_type": "code",
   "execution_count": null,
   "id": "369f57f1",
   "metadata": {
    "scrolled": true
   },
   "outputs": [],
   "source": [
    "df1_d['issue_d'].value_counts()"
   ]
  },
  {
   "cell_type": "code",
   "execution_count": null,
   "id": "e1801d08",
   "metadata": {
    "scrolled": true
   },
   "outputs": [],
   "source": [
    "df1_f['issue_d'].value_counts()"
   ]
  },
  {
   "cell_type": "code",
   "execution_count": null,
   "id": "1a952327",
   "metadata": {},
   "outputs": [],
   "source": []
  }
 ],
 "metadata": {
  "kernelspec": {
   "display_name": "Python 3 (ipykernel)",
   "language": "python",
   "name": "python3"
  },
  "language_info": {
   "codemirror_mode": {
    "name": "ipython",
    "version": 3
   },
   "file_extension": ".py",
   "mimetype": "text/x-python",
   "name": "python",
   "nbconvert_exporter": "python",
   "pygments_lexer": "ipython3",
   "version": "3.9.7"
  }
 },
 "nbformat": 4,
 "nbformat_minor": 5
}
