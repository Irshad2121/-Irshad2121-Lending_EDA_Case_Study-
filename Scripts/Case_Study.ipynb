{
 "cells": [
  {
   "cell_type": "markdown",
   "id": "af908e64",
   "metadata": {},
   "source": [
    "# Lending Club Case Study\n",
    "\n",
    "**Version:** 1.0\n",
    "\n",
    "---\n",
    "\n",
    "**Document Information:**\n",
    "- **Authors:** Irshad Shaikh and Ganesh Visweswaran\n",
    "- **Creation Date:** May 8th, 2024\n",
    "- **Last Update Date:** May 8th, 2024\n",
    "- **Last Updated by:** [Update by Name/Initials]\n",
    "\n",
    "---"
   ]
  },
  {
   "cell_type": "markdown",
   "id": "120d5f0a",
   "metadata": {},
   "source": [
    "# Importing Libraries"
   ]
  },
  {
   "cell_type": "code",
   "execution_count": 8,
   "id": "94ab0496",
   "metadata": {},
   "outputs": [
    {
     "name": "stdout",
     "output_type": "stream",
     "text": [
      "Pandas version: 1.3.4\n",
      "Numpy version: 1.20.3\n",
      "Seaborn version: 0.11.2\n",
      "Matplotlib version: 3.4.3\n"
     ]
    }
   ],
   "source": [
    "import pandas as pd\n",
    "import numpy as np\n",
    "import seaborn as sns\n",
    "from matplotlib import pyplot as plt\n",
    "import warnings as ws\n",
    "#import plotly.express as px\n",
    "ws.filterwarnings('ignore')\n",
    "\n",
    "\n",
    "print(\"Pandas version:\", pd.__version__)\n",
    "print(\"Numpy version:\", np.__version__)\n",
    "print(\"Seaborn version:\", sns.__version__)\n",
    "print(\"Matplotlib version:\", plt.matplotlib.__version__)\n"
   ]
  },
  {
   "cell_type": "markdown",
   "id": "e047b558",
   "metadata": {},
   "source": [
    "# Data Sourcing\n",
    "Our data source appears to be private, as it is associated with a specific organization."
   ]
  },
  {
   "cell_type": "code",
   "execution_count": null,
   "id": "4d21bfb9",
   "metadata": {},
   "outputs": [],
   "source": [
    "#----Loading the file into dataframe\n",
    "\n",
    "\n",
    "loan_df=pd.read_csv('../Data_Source/loan.csv')\n",
    "print (\"Sample records: \\n\")\n",
    "loan_df.head(2)"
   ]
  },
  {
   "cell_type": "code",
   "execution_count": null,
   "id": "ac37c0aa",
   "metadata": {},
   "outputs": [],
   "source": [
    "#----Identify the number of columns and rows in dataset\n",
    "\n",
    "\n",
    "print(\"Loan Data - Row vs columns: \", loan_df.shape)"
   ]
  },
  {
   "cell_type": "markdown",
   "id": "929c71d5",
   "metadata": {},
   "source": [
    "# Data Cleaning\n",
    "## 1.1 Clean all rows which are null\n",
    "#### Created two functions \n",
    "1. detinfo(df,list) : It gives data type, Number of Null Values, Number of Unique Values and detailed information about the column \n"
   ]
  },
  {
   "cell_type": "code",
   "execution_count": null,
   "id": "df56c78f",
   "metadata": {},
   "outputs": [],
   "source": [
    "#function defined to provide detailed info on any column list when called for\n",
    "\n",
    "def column_info(df, columns):\n",
    "    \"\"\"\n",
    "    Print detailed information about specified columns in a DataFrame.\n",
    "\n",
    "    Parameters:\n",
    "    df : DataFrame\n",
    "        The DataFrame containing the columns to analyze.\n",
    "    columns : list\n",
    "        List of column names for which information is needed.\n",
    "    \"\"\"\n",
    "\n",
    "    for col in columns:\n",
    "        print(\"*******************************************************\")\n",
    "        print(\"Column Name: \", col)\n",
    "        print(\"-------------------------------------------------------\")\n",
    "        print(\"Type: \", df[col].dtype)\n",
    "        print(\"Number of Null Values: \", df[col].isnull().sum())\n",
    "        print(\"Number of Unique Values:\", len(df[col].unique()))\n",
    "        print(\"Detailed Information:\")\n",
    "        print(df[col].describe())"
   ]
  },
  {
   "cell_type": "markdown",
   "id": "4a2fba11",
   "metadata": {},
   "source": [
    "###  Identify the unnecessary columns\n",
    "\n",
    "####  1 The columns which has 100% Null values and remove them"
   ]
  },
  {
   "cell_type": "code",
   "execution_count": null,
   "id": "fcab81d3",
   "metadata": {
    "scrolled": true
   },
   "outputs": [],
   "source": [
    "100*loan_df.isnull().mean()[loan_df.isnull().mean()==1]"
   ]
  },
  {
   "cell_type": "code",
   "execution_count": null,
   "id": "53e6ddf3",
   "metadata": {
    "scrolled": true
   },
   "outputs": [],
   "source": [
    "empty_column=loan_df.isnull().mean()[100*loan_df.isnull().mean()==100].keys()\n",
    "empty_column\n",
    "loan_df_1=loan_df.drop(columns=empty_column)\n",
    "loan_df_1.shape"
   ]
  },
  {
   "cell_type": "code",
   "execution_count": null,
   "id": "d0f0428e",
   "metadata": {
    "scrolled": true
   },
   "outputs": [],
   "source": [
    "100*loan_df_1.isnull().mean().sort_values(ascending=False)"
   ]
  },
  {
   "cell_type": "markdown",
   "id": "3559e5c0",
   "metadata": {},
   "source": [
    "#### 2 We still have some columns which have more than 90% Null values hence removing them"
   ]
  },
  {
   "cell_type": "code",
   "execution_count": null,
   "id": "4bde2f7c",
   "metadata": {},
   "outputs": [],
   "source": [
    "empty_column=loan_df_1.isnull().mean()[100*loan_df_1.isnull().mean()>90].keys()\n",
    "empty_column\n",
    "loan_df_1=loan_df_1.drop(columns=empty_column)\n",
    "loan_df_1.shape"
   ]
  },
  {
   "cell_type": "markdown",
   "id": "89d8b728",
   "metadata": {},
   "source": [
    "#### 3 Check for empty rows"
   ]
  },
  {
   "cell_type": "code",
   "execution_count": null,
   "id": "9b265522",
   "metadata": {
    "scrolled": true
   },
   "outputs": [],
   "source": [
    "# There are no empty rows when we execute this\n",
    "100*loan_df_1.isnull().mean(axis=1).sort_values(ascending=False)"
   ]
  },
  {
   "cell_type": "markdown",
   "id": "e4a46bf1",
   "metadata": {},
   "source": [
    "#### 4 Remove duplicate records"
   ]
  },
  {
   "cell_type": "code",
   "execution_count": null,
   "id": "6d0dc240",
   "metadata": {},
   "outputs": [],
   "source": [
    "#There are no duplicate records\n",
    "loan_df_1.shape , loan_df_1.drop_duplicates().shape"
   ]
  },
  {
   "cell_type": "code",
   "execution_count": null,
   "id": "9d211078",
   "metadata": {},
   "outputs": [],
   "source": [
    "# Viewing data to check info:\n",
    "column_info(loan_df_1,loan_df_1.columns)"
   ]
  },
  {
   "cell_type": "markdown",
   "id": "504962b9",
   "metadata": {},
   "source": [
    "##### 5 Remove column wich doesn't have meaningfull data"
   ]
  },
  {
   "cell_type": "code",
   "execution_count": null,
   "id": "2e7538bc",
   "metadata": {},
   "outputs": [],
   "source": [
    "# After executing above we got the info that,\n",
    "# we have some columns which has 3 or less than 3 unique values \n",
    "# Checking for for the column which has less than  3 unique values\n",
    "limi_val=list()\n",
    "for x in loan_df_1.columns:\n",
    "    if len(loan_df_1[x].unique())<4:\n",
    "        limi_val.append(x)\n",
    "print(limi_val)"
   ]
  },
  {
   "cell_type": "code",
   "execution_count": null,
   "id": "062066ff",
   "metadata": {},
   "outputs": [],
   "source": [
    "# \n",
    "# Check for the values if they have any significance\n",
    "for x in limi_val:\n",
    "    print(x,'---->',loan_df_1[x].unique())"
   ]
  },
  {
   "cell_type": "code",
   "execution_count": null,
   "id": "cba843ec",
   "metadata": {},
   "outputs": [],
   "source": [
    "# We don't need people who have loan_status='Current'\n",
    "loan_df_1=loan_df_1[loan_df_1['loan_status']!='Current']\n",
    "# These columns does not have anything important hence removing them\n",
    "col=['pymnt_plan','initial_list_status','collections_12_mths_ex_med','policy_code','application_type'\n",
    "     ,'acc_now_delinq','chargeoff_within_12_mths','delinq_amnt','tax_liens']\n",
    "loan_df_1=loan_df_1.drop(columns=col)\n",
    "loan_df_1.shape"
   ]
  },
  {
   "cell_type": "code",
   "execution_count": null,
   "id": "28df4cbb",
   "metadata": {
    "scrolled": true
   },
   "outputs": [],
   "source": [
    "# checking random record to see if there are any columns which is not important for analysis\n",
    "loan_df_1.iloc[1]"
   ]
  },
  {
   "cell_type": "code",
   "execution_count": null,
   "id": "1f30a8ac",
   "metadata": {},
   "outputs": [],
   "source": [
    "# For now URL and DESC columns seems not so useful\n",
    "loan_df_1=loan_df_1.drop(columns=['url','desc'])\n",
    "loan_df_1.shape"
   ]
  },
  {
   "cell_type": "markdown",
   "id": "7021425d",
   "metadata": {},
   "source": [
    "##### 6 Remove special symbols in columns so that we can clean and segrigate data for analysis"
   ]
  },
  {
   "cell_type": "code",
   "execution_count": null,
   "id": "79dce4b2",
   "metadata": {
    "scrolled": true
   },
   "outputs": [],
   "source": [
    "loan_df_1['int_rate']=loan_df_1['int_rate'].apply(lambda x: x.replace('%',''))\n",
    "loan_df_1['zip_code']=loan_df_1['zip_code'].apply(lambda x: x.replace('xx',''))\n",
    "loan_df_1['sub_grade']=loan_df_1['sub_grade'].apply(lambda x: x[-1])\n",
    "loan_df_1['revol_util']=loan_df_1['revol_util'].apply(lambda x: np.nan if pd.isna(x) else x.replace('%',''))\n"
   ]
  },
  {
   "cell_type": "markdown",
   "id": "a1f243ce",
   "metadata": {},
   "source": [
    "##### 7 Data type corrections"
   ]
  },
  {
   "cell_type": "code",
   "execution_count": null,
   "id": "cc089672",
   "metadata": {
    "scrolled": true
   },
   "outputs": [],
   "source": [
    "# Changing below columns to Numeric since it appear as string\n",
    "loan_df_1['zip_code']=pd.to_numeric(loan_df_1['zip_code'])\n",
    "loan_df_1['int_rate']=loan_df_1['int_rate'].str.strip().astype(float)\n",
    "loan_df_1['revol_util']=loan_df_1['revol_util'].str.strip().astype(float)"
   ]
  },
  {
   "cell_type": "code",
   "execution_count": null,
   "id": "d8659c2c",
   "metadata": {},
   "outputs": [],
   "source": [
    "# Changing string columns to date \n",
    "\n",
    "loan_df_1['issue_d'] = pd.to_datetime(loan_df_1['issue_d'], format='%b-%y')\n",
    "loan_df_1['last_pymnt_d'] = pd.to_datetime(loan_df_1['last_pymnt_d'], format='%b-%y')\n",
    "loan_df_1['last_credit_pull_d'] = pd.to_datetime(loan_df_1['last_credit_pull_d'], format='%b-%y')"
   ]
  },
  {
   "cell_type": "code",
   "execution_count": null,
   "id": "9c012380",
   "metadata": {},
   "outputs": [],
   "source": [
    "#Identify numeric and string column\n",
    "num_col=loan_df_1.dtypes[(loan_df_1.dtypes=='int64') | (loan_df_1.dtypes=='float64')]\n",
    "str_col=loan_df_1.dtypes[~((loan_df_1.dtypes=='int64') | (loan_df_1.dtypes=='float64'))]\n",
    "loan_df_1.columns"
   ]
  },
  {
   "cell_type": "code",
   "execution_count": null,
   "id": "d35bbbf3",
   "metadata": {},
   "outputs": [],
   "source": [
    "# I have checked for the value of each column and seggrigated them as below \n",
    "ordered_cat=['term','grade','sub_grade','emp_length','issue_d','delinq_2yrs'\n",
    "             ,'earliest_cr_line','inq_last_6mths','mths_since_last_delinq',\n",
    "             'last_pymnt_d','last_credit_pull_d','pub_rec_bankruptcies']\n",
    "unordered_cat=['home_ownership','verification_status','loan_status','purpose',\n",
    "               'zip_code','addr_state']\n",
    "other=['id','member_id','desc','emp_title','title']\n",
    "measure_col=['loan_amnt', 'funded_amnt','funded_amnt_inv','int_rate',\n",
    "             'installment','annual_inc','dti','open_acc','pub_rec','revol_bal'\n",
    "             ,'revol_util','total_acc','out_prncp','total_pymnt'\n",
    "             ,'total_pymnt_inv','total_rec_prncp','total_rec_int','total_rec_late_fee'\n",
    "             ,'recoveries','collection_recovery_fee','last_pymnt_amnt']"
   ]
  },
  {
   "cell_type": "code",
   "execution_count": null,
   "id": "c26867ed",
   "metadata": {},
   "outputs": [],
   "source": [
    "pd.set_option('display.float_format',lambda x: '%.3f' % x)\n",
    "loan_df_1[measure_col].describe()"
   ]
  },
  {
   "cell_type": "markdown",
   "id": "786dad50",
   "metadata": {},
   "source": [
    "\n",
    "# Univariate Analysis\n",
    "\n",
    "\n"
   ]
  },
  {
   "cell_type": "markdown",
   "id": "b743198a",
   "metadata": {},
   "source": [
    "#### 1. Categorical variable Univariate Analysis"
   ]
  },
  {
   "cell_type": "code",
   "execution_count": null,
   "id": "bddb5fe9",
   "metadata": {
    "scrolled": true
   },
   "outputs": [],
   "source": [
    "# Plotting cateogorical variable and trying to see the pattern if we find any\n",
    "for z in ordered_cat:\n",
    "    print(\"--------------Ordered Category\",z,\" -----------------\")\n",
    "    dta=loan_df_1[z].value_counts().head(15).reset_index()\n",
    "    sns.barplot(y='index',x=z,data=dta)\n",
    "    plt.xticks(rotation=90)\n",
    "    plt.show()"
   ]
  },
  {
   "cell_type": "markdown",
   "id": "df3f0286",
   "metadata": {},
   "source": [
    "According to above barplot \n",
    "* More people prefer to have 36 month tenuer\n",
    "* More poople fall into B, A and C category\n",
    "* 10+ years people tend to apply more for loan than anyother category\n",
    "* There were huge rise in loan application in 2011 sep, oct, nov and dec "
   ]
  },
  {
   "cell_type": "code",
   "execution_count": null,
   "id": "bd65ebba",
   "metadata": {
    "scrolled": true
   },
   "outputs": [],
   "source": [
    "# Insights from unorder categorical variable\n",
    "for z in unordered_cat:\n",
    "    print(\"--------------unordered Category\",z,\" -----------------\")\n",
    "    dta=loan_df_1[z].value_counts().head(15).reset_index()\n",
    "    sns.barplot(y='index',x=z,data=dta)\n",
    "    plt.xticks(rotation=90)\n",
    "    plt.show()"
   ]
  },
  {
   "cell_type": "markdown",
   "id": "46edcf17",
   "metadata": {},
   "source": [
    "According to above graphs:\n",
    " 1. Home_owner who have MORTGAGE and RENT category tends to borrow as compare to any other category\n",
    " 2. Not verified people are more in number who are getting loan approved this is serius alarm \n",
    " 3. People with debt_consolidation and credit_card tends to apply for loan more than any other purpose\n",
    " 4. People who are from NY and CA tend to apply for loan more than any other state"
   ]
  },
  {
   "cell_type": "code",
   "execution_count": null,
   "id": "1b1b6d19",
   "metadata": {},
   "outputs": [],
   "source": [
    "loan_df_1['loan_status'].value_counts(normalize=True)*100"
   ]
  },
  {
   "cell_type": "markdown",
   "id": "2b8b466a",
   "metadata": {},
   "source": [
    "#### 2. Numeric variable univariate analysis"
   ]
  },
  {
   "cell_type": "code",
   "execution_count": null,
   "id": "5ac5fc21",
   "metadata": {
    "scrolled": true
   },
   "outputs": [],
   "source": [
    "for var in measure_col:\n",
    "    print(\"--------------Box Plot Category\",z,\" -----------------\")\n",
    "    plt.figure(figsize=(10,6))\n",
    "    print()\n",
    "    sns.boxplot(data=loan_df_1,x=var)\n",
    "    #plt.xticks(rotation=90)\n",
    "    plt.show()\n",
    "    \n",
    "# 1. As per below there are some outliers in column collection_recovery_fee, recoveries, \n",
    "#    total_rec_late_fee,out_prncp, pub_rec, annual_inc"
   ]
  },
  {
   "cell_type": "code",
   "execution_count": null,
   "id": "ca3f5e10",
   "metadata": {},
   "outputs": [],
   "source": [
    "# I am taking annual_inc to remove outlier from \n",
    "lis=loan_df_1['annual_inc'].tolist()\n",
    "mn=np.mean(lis)\n",
    "sdd=np.std(lis)\n",
    "li=[x for x in lis if (x > mn - 2 * sdd)]\n",
    "li=[x for x in li if (x < mn + 2 * sdd)]\n",
    "loan_df_2=loan_df_1[loan_df_1['annual_inc'].isin(li)]"
   ]
  },
  {
   "cell_type": "code",
   "execution_count": null,
   "id": "a13c2778",
   "metadata": {},
   "outputs": [],
   "source": [
    "# Comparing the previous and new dataframe\n",
    "loan_df_1.shape , loan_df_2.shape"
   ]
  },
  {
   "cell_type": "code",
   "execution_count": null,
   "id": "3cb93a18",
   "metadata": {
    "scrolled": true
   },
   "outputs": [],
   "source": [
    "# Plotting the same value\n",
    "for var in measure_col:\n",
    "    print(\"--------------Box Plot Category\",z,\" -----------------\")\n",
    "    plt.figure(figsize=(10,6))\n",
    "    sns.boxplot(data=loan_df_2,x=var)\n",
    "    #plt.xticks(rotation=90)\n",
    "    plt.show()"
   ]
  },
  {
   "cell_type": "code",
   "execution_count": null,
   "id": "19156505",
   "metadata": {},
   "outputs": [],
   "source": [
    "loan_df_2.describe()\n",
    "\n",
    "# Above box plot and below description of data after removing:\n",
    "#  1. Most of the loan_amnt are between 5400 and 15000\n",
    "#  2. Most of the int_rate are between 9.070 and 14.5\n"
   ]
  },
  {
   "cell_type": "code",
   "execution_count": null,
   "id": "bbb16daa",
   "metadata": {},
   "outputs": [],
   "source": [
    "# Plotting histplot for more insights\n",
    "# The below give same insights which we can see above in numbers\n",
    "# 1. Most of the loan_amnt and funded_amnt lies between 5400 and 15000\n",
    "# 2. int_rate lies between 9% and 14.5%\n",
    "# 3. Annual income of borrowers lies between 40000 and 80000\n",
    "\n",
    "for z in measure_col:\n",
    "    print(\"--------------Measure Category\",z,\" -----------------\")\n",
    "    sns.histplot(loan_df_2[z])\n",
    "    plt.show()"
   ]
  },
  {
   "cell_type": "code",
   "execution_count": null,
   "id": "5052e8dd",
   "metadata": {},
   "outputs": [],
   "source": [
    "# There are some numeric columns I belive if we can create categories\n",
    "loan_df_2['cat_loan_amnt'] = pd.cut(x=loan_df_2['loan_amnt'], bins=[0, 10000, 20000, 30000, 40000], labels=['0-10K', '10K-20K', '20K-30K','30K-40K'])\n",
    "loan_df_2['cat_annual_inc'] = pd.cut(x=loan_df_2['annual_inc'], bins=[0,20000, 40000, 60000, 80000,7000000], labels=['0-20K', '20K-40K', '40K-60K','60K-80K','>80K'])\n",
    "loan_df_2['cat_int_rate']=pd.cut(x=loan_df_2['int_rate'],bins=[0,3,6,9,12,15,25],labels=['0-3%','3%-6%','6%-9%','9%-12%','12%-15%','>15%'])\n",
    "##Create numerical column loan amount to annual income ratio\n",
    "loan_df_2['lta']=loan_df_2['loan_amnt']/loan_df_2['annual_inc']\n",
    "new_cat_list=['cat_loan_amnt','cat_annual_inc','cat_int_rate']\n",
    "\n",
    "# Adding Newly derived Categorical columns to list\n",
    "ordered_cat.extend(['cat_loan_amnt','cat_annual_inc','cat_int_rate'])\n",
    "ordered_cat"
   ]
  },
  {
   "cell_type": "code",
   "execution_count": null,
   "id": "e3cc6841",
   "metadata": {},
   "outputs": [],
   "source": [
    "for i in measure_col:\n",
    "    print(\"--------------loan status vs \",i,\" -----------------\")\n",
    "    sns.boxplot(x=loan_df_2['loan_status'],y=loan_df_2[i])\n",
    "    plt.show()"
   ]
  },
  {
   "cell_type": "code",
   "execution_count": null,
   "id": "1b171385",
   "metadata": {},
   "outputs": [],
   "source": []
  },
  {
   "cell_type": "code",
   "execution_count": null,
   "id": "f0d7e224",
   "metadata": {},
   "outputs": [],
   "source": [
    "#numerical vs categorical\n",
    "for i in measure_col:\n",
    "    print(\"--------------loan status vs \",i,\" -----------------\")\n",
    "    sns.barplot(x=loan_df_2['loan_status'],y=loan_df_2[i])\n",
    "    plt.show()"
   ]
  },
  {
   "cell_type": "code",
   "execution_count": null,
   "id": "b17d7ba9",
   "metadata": {
    "scrolled": true
   },
   "outputs": [],
   "source": [
    "# Plotting the graph\n",
    "for z in new_cat_list:\n",
    "    print(\"--------------New Category\",z,\" -----------------\")\n",
    "    dta=loan_df_2[z].value_counts().head(15).reset_index()\n",
    "    sns.barplot(y='index',x=z,data=dta)\n",
    "    plt.xticks(rotation=90)\n",
    "    plt.show()"
   ]
  },
  {
   "cell_type": "markdown",
   "id": "79af5f0d",
   "metadata": {},
   "source": [
    "# Segmentation Analysis\n",
    "\n",
    "### 1. Creating segmentation on the basis of loan status and plotting the graph"
   ]
  },
  {
   "cell_type": "code",
   "execution_count": null,
   "id": "642ed3f2",
   "metadata": {
    "scrolled": true
   },
   "outputs": [],
   "source": [
    "# Segmented on the basis of 'loan_status' and checking for each category\n",
    "for z in ordered_cat:\n",
    "    print(\"--------------Segmentation of Ordered Category\",z,\" -----------------\")\n",
    "    sns.countplot(data=loan_df_2,hue='loan_status',x=z)\n",
    "    plt.title(z.upper())\n",
    "    plt.xticks(rotation=45)\n",
    "    plt.show()"
   ]
  },
  {
   "cell_type": "markdown",
   "id": "8fe83ba7",
   "metadata": {},
   "source": [
    "*  In Above chart we see that people who have fully paid as status they prefer to have 36 month as * * term\n",
    "*  In GRADE most of the fully paid status falls into B, C and A grades while most of the defaulters * are in B, C and D grade\n",
    "*  People who have EMP_LENGTH 10+ Years tends to apply more than any other category\n",
    "   i. Most of the defaulter in EMP_LENGTH are 10+ years or <3 Years"
   ]
  },
  {
   "cell_type": "code",
   "execution_count": null,
   "id": "149e1902",
   "metadata": {
    "scrolled": true
   },
   "outputs": [],
   "source": [
    "# Segmented on the basis of 'loan_status' and checking for unorder categorical variable\n",
    "for z in unordered_cat:\n",
    "    print(\"--------------Segmentation of unordered Category\",z,\" -----------------\")\n",
    "    sns.countplot(data=loan_df_2,hue='loan_status',y=z,saturation=0.9,)\n",
    "    plt.title(z.upper())\n",
    "    plt.xticks(rotation=45)\n",
    "    plt.show()"
   ]
  },
  {
   "cell_type": "markdown",
   "id": "d120d0a2",
   "metadata": {},
   "source": [
    "As per the above graph we get the below analysis:\n",
    "* HOME_OWNERSHIP : Defaulters and Fully paid customers are either rented or have mortgage their property\n",
    "* VERIFICATION_STATUS: Defaulters are almost same in numbers \n",
    "* More numbers of defaulter and fully paid people "
   ]
  },
  {
   "cell_type": "markdown",
   "id": "448321c0",
   "metadata": {},
   "source": [
    "# Segmented Bivariate Analysis"
   ]
  },
  {
   "cell_type": "code",
   "execution_count": null,
   "id": "619b6538",
   "metadata": {},
   "outputs": [],
   "source": [
    "# I have checked for the value of each column and seggrigated them as below \n",
    "cat=['term','grade','emp_length','home_ownership','verification_status','purpose']\n",
    "mes=['loan_amnt', 'funded_amnt','int_rate',\n",
    "             'installment','annual_inc']\n",
    "ct=1\n",
    "for z in cat:\n",
    "    for zx in mes:\n",
    "        print(\"--------------Segmentation of Bivariate Analysis: \",z,'-',zx,\" -----------------\")\n",
    "        sns.heatmap(loan_df_2.pivot_table(columns=['loan_status'],index=[z],\n",
    "                                  aggfunc='median',\n",
    "                                  values=zx),\n",
    "                    cmap='YlGnBu', annot=True, fmt=\".2f\")\n",
    "        plt.title(f'Graph No.:{ct} Median Values of ({zx}) by Loan Status and {z}\\n')\n",
    "        plt.yticks(rotation=0)\n",
    "        ct=ct+1\n",
    "        plt.tight_layout()  \n",
    "        plt.show()"
   ]
  },
  {
   "cell_type": "markdown",
   "id": "cb50f1ff",
   "metadata": {},
   "source": [
    "\n",
    "# Insights in the above Graphs:\n",
    "* Graph No. 1: Median loan amounts are almost the same between fully paid and charged-off customers.\n",
    "* Graph No. 3: Median values of interest rates are higher for charged-off individuals who have applied for a 60-month term.\n",
    "* Graph No. 4: Median installment values.\n",
    "* Graph No. 6: For fully paid, Grade G has a greater median compared to any other category. Grade F tends to have a higher median loan amount in Charged off and Current status.\n",
    "* Graph No. 8: Grades E, F, and G tend to accept loans at high interest rates.\n",
    "* Graph No. 11: It seems that employees with more than 9 years of experience have a higher median compared to any other in charged off. Also, the current status shows that...\n",
    "* Graph No. 13: Fully paid individuals have almost the same median throughout, the same goes for Charged off and Current.\n",
    "* Graph No. 14: In charged off and fully paid loan status types, individuals with 9+ years of experience tend to have a higher number of median installments.\n",
    "* Graph No. 15: Fully paid people's annual income tends to be higher than Charged off people's.\n",
    "* Graph No. 16: Median values of loan amounts are high in the case of OTHER and MORTGAGE for charged off. Also, MORTGAGE individuals tend to have more loan amounts in Fully paid and Current categories.\n",
    "* Graph No. 19: Median value of installments is higher in the case of home_ownership-Other in the charged-off category.\n",
    "* Graph No. 26: Among loans categorized as \"Charged Off\" in loan status, the purposes of credit_card, debt_consolidation, and small business exhibit high median approved loan amounts."
   ]
  },
  {
   "cell_type": "markdown",
   "id": "d46aa2ec",
   "metadata": {},
   "source": [
    "# Multivariate Analysis"
   ]
  },
  {
   "cell_type": "code",
   "execution_count": null,
   "id": "ae409fc2",
   "metadata": {},
   "outputs": [],
   "source": [
    "mult_measure=['loan_amnt','installment','funded_amnt','funded_amnt_inv','int_rate'\n",
    "             ,'annual_inc','dti','open_acc','revol_util','out_prncp','total_pymnt'\n",
    "             ,'total_rec_prncp'\n",
    "             ]\n",
    "#Multivariate analysis\n",
    "plt.figure(figsize=(10,8))\n",
    "sns.heatmap(loan_df_2[mult_measure].corr(),annot=True)\n",
    "plt.show()"
   ]
  },
  {
   "cell_type": "code",
   "execution_count": null,
   "id": "26b2bf36",
   "metadata": {},
   "outputs": [],
   "source": []
  },
  {
   "cell_type": "code",
   "execution_count": null,
   "id": "03e53987",
   "metadata": {},
   "outputs": [],
   "source": []
  }
 ],
 "metadata": {
  "kernelspec": {
   "display_name": "Python 3 (ipykernel)",
   "language": "python",
   "name": "python3"
  },
  "language_info": {
   "codemirror_mode": {
    "name": "ipython",
    "version": 3
   },
   "file_extension": ".py",
   "mimetype": "text/x-python",
   "name": "python",
   "nbconvert_exporter": "python",
   "pygments_lexer": "ipython3",
   "version": "3.9.7"
  }
 },
 "nbformat": 4,
 "nbformat_minor": 5
}
